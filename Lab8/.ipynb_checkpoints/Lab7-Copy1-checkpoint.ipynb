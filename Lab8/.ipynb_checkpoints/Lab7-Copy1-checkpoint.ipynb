{
 "cells": [
  {
   "cell_type": "code",
   "execution_count": 2,
   "id": "15eb8ea3",
   "metadata": {},
   "outputs": [],
   "source": [
    "import random \n",
    "from random import seed\n",
    "import string"
   ]
  },
  {
   "cell_type": "code",
   "execution_count": 3,
   "id": "bca4b585",
   "metadata": {},
   "outputs": [],
   "source": [
    "def cipher_text_function(text, key):\n",
    "    #condition to check if the key and text have the same length\n",
    "    if len(key) != len(text):\n",
    "        return \"Key and text must have the same length\"\n",
    "    cipher_text = \"\"\n",
    "    for i in range (len(key)):\n",
    "        cipher_text_symbol=ord(text[i]) ^ ord(key[i])\n",
    "        cipher_text+=chr(cipher_text_symbol)\n",
    "    return cipher_text"
   ]
  },
  {
   "cell_type": "code",
   "execution_count": 5,
   "id": "e2138d0e",
   "metadata": {},
   "outputs": [],
   "source": [
    "P1=\"НаВашисходящийот1204\""
   ]
  },
  {
   "cell_type": "code",
   "execution_count": 6,
   "id": "c9be6a22",
   "metadata": {},
   "outputs": [
    {
     "name": "stdout",
     "output_type": "stream",
     "text": [
      "7X8s51fbLtByHwiUmrCaoN\n"
     ]
    }
   ],
   "source": [
    "key=\"\"\n",
    "seed(23)\n",
    "for i in range(len(text)):\n",
    "    key += random.choice(string.ascii_letters + string.digits)\n",
    "print(key)"
   ]
  },
  {
   "cell_type": "code",
   "execution_count": 9,
   "id": "2d5d061c",
   "metadata": {},
   "outputs": [
    {
     "name": "stdout",
     "output_type": "stream",
     "text": [
      "ЖxХэЇѺњBџъѶчѴ[IѡЭбѴЭРo\n"
     ]
    }
   ],
   "source": [
    "cipher_text = cipher_text_function(text, key)\n",
    "print(cipher_text)"
   ]
  },
  {
   "cell_type": "code",
   "execution_count": 11,
   "id": "ccc5af2f",
   "metadata": {},
   "outputs": [
    {
     "name": "stdout",
     "output_type": "stream",
     "text": [
      "Text: С Новым Годом, друзья!\n"
     ]
    }
   ],
   "source": [
    "print(f\"Text: {cipher_text_function(cipher_text, key)}\")"
   ]
  },
  {
   "cell_type": "code",
   "execution_count": 13,
   "id": "8e3f8b99",
   "metadata": {},
   "outputs": [
    {
     "name": "stdout",
     "output_type": "stream",
     "text": [
      "Key: 7X8s51fbLtByHwiUmrCaoN\n"
     ]
    }
   ],
   "source": [
    "print(f\"Key: {cipher_text_function(text, cipher_text)}\")"
   ]
  }
 ],
 "metadata": {
  "kernelspec": {
   "display_name": "Python 3 (ipykernel)",
   "language": "python",
   "name": "python3"
  },
  "language_info": {
   "codemirror_mode": {
    "name": "ipython",
    "version": 3
   },
   "file_extension": ".py",
   "mimetype": "text/x-python",
   "name": "python",
   "nbconvert_exporter": "python",
   "pygments_lexer": "ipython3",
   "version": "3.10.9"
  }
 },
 "nbformat": 4,
 "nbformat_minor": 5
}
