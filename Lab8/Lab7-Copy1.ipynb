{
 "cells": [
  {
   "cell_type": "code",
   "execution_count": 2,
   "id": "15eb8ea3",
   "metadata": {},
   "outputs": [],
   "source": [
    "import random \n",
    "from random import seed\n",
    "import string"
   ]
  },
  {
   "cell_type": "code",
   "execution_count": 3,
   "id": "bca4b585",
   "metadata": {},
   "outputs": [],
   "source": [
    "def cipher_text_function(text, key):\n",
    "    #condition to check if the key and text have the same length\n",
    "    if len(key) != len(text):\n",
    "        return \"Key and text must have the same length\"\n",
    "    cipher_text = \"\"\n",
    "    for i in range (len(key)):\n",
    "        cipher_text_symbol=ord(text[i]) ^ ord(key[i])\n",
    "        cipher_text+=chr(cipher_text_symbol)\n",
    "    return cipher_text"
   ]
  },
  {
   "cell_type": "code",
   "execution_count": 4,
   "id": "e2138d0e",
   "metadata": {},
   "outputs": [],
   "source": [
    "P1=\"НаВашисходящийот1204\"\n",
    "P2=\"ВСеверныйфилиалБанка\""
   ]
  },
  {
   "cell_type": "code",
   "execution_count": 5,
   "id": "c9be6a22",
   "metadata": {},
   "outputs": [
    {
     "name": "stdout",
     "output_type": "stream",
     "text": [
      "7X8s51fbLtByHwiUmrCa\n"
     ]
    }
   ],
   "source": [
    "key=\"\"\n",
    "seed(23)\n",
    "for i in range(len(P1)):\n",
    "    key += random.choice(string.ascii_letters + string.digits)\n",
    "print(key)"
   ]
  },
  {
   "cell_type": "code",
   "execution_count": 6,
   "id": "2d5d061c",
   "metadata": {},
   "outputs": [
    {
     "name": "stdout",
     "output_type": "stream",
     "text": [
      "Encoded P1: ЪѨЪуѽЉЧЧѲрЍаѰюїЗ\\@sU\n",
      "Encoded P2: ХѹЍсЀѱћЩѵаѺтѰчђфѝяѹё\n"
     ]
    }
   ],
   "source": [
    "cipher_P1 = cipher_text_function(P1, key)\n",
    "cipher_P2 = cipher_text_function(P2, key)\n",
    "print(f\"Encoded P1: {cipher_P1}\")\n",
    "print(f\"Encoded P2: {cipher_P2}\")\n"
   ]
  },
  {
   "cell_type": "code",
   "execution_count": 7,
   "id": "ccc5af2f",
   "metadata": {},
   "outputs": [
    {
     "name": "stdout",
     "output_type": "stream",
     "text": [
      "P1: НаВашисходящийот1204\n"
     ]
    }
   ],
   "source": [
    "print(f\"P1: {cipher_text_function(cipher_P1, key)}\")"
   ]
  },
  {
   "cell_type": "code",
   "execution_count": 8,
   "id": "8e3f8b99",
   "metadata": {
    "scrolled": true
   },
   "outputs": [
    {
     "name": "stdout",
     "output_type": "stream",
     "text": [
      "Key: 7X8s51fbLtByHwiUmrCa\n"
     ]
    }
   ],
   "source": [
    "print(f\"Key: {cipher_text_function(P1, cipher_P1)}\")"
   ]
  },
  {
   "cell_type": "code",
   "execution_count": 10,
   "id": "cf98f6ff",
   "metadata": {},
   "outputs": [
    {
     "name": "stdout",
     "output_type": "stream",
     "text": [
      "P2: ВСеверныйфилиалБанка\n",
      "Key: 7X8s51fbLtByHwiUmrCa\n"
     ]
    }
   ],
   "source": [
    "print(f\"P2: {cipher_text_function(cipher_P2, key)}\")\n",
    "print(f\"Key: {cipher_text_function(P2, cipher_P2)}\")"
   ]
  }
 ],
 "metadata": {
  "kernelspec": {
   "display_name": "Python 3 (ipykernel)",
   "language": "python",
   "name": "python3"
  },
  "language_info": {
   "codemirror_mode": {
    "name": "ipython",
    "version": 3
   },
   "file_extension": ".py",
   "mimetype": "text/x-python",
   "name": "python",
   "nbconvert_exporter": "python",
   "pygments_lexer": "ipython3",
   "version": "3.10.9"
  }
 },
 "nbformat": 4,
 "nbformat_minor": 5
}
